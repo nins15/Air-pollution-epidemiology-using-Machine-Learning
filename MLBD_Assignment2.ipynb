{
  "nbformat": 4,
  "nbformat_minor": 0,
  "metadata": {
    "colab": {
      "name": "MLBD Assignment2.ipynb",
      "provenance": [],
      "collapsed_sections": []
    },
    "kernelspec": {
      "name": "python3",
      "display_name": "Python 3"
    },
    "language_info": {
      "name": "python"
    }
  },
  "cells": [
    {
      "cell_type": "markdown",
      "metadata": {
        "id": "PDXu3wL4_BVy"
      },
      "source": [
        "**Reading the Dataaset**"
      ]
    },
    {
      "cell_type": "markdown",
      "metadata": {
        "id": "GwrlQcrB7Yle"
      },
      "source": [
        "The first step is to have a peek at the data"
      ]
    },
    {
      "cell_type": "code",
      "metadata": {
        "id": "QBr-Y4WE8YWL",
        "colab": {
          "base_uri": "https://localhost:8080/",
          "height": 669
        },
        "outputId": "068c16b4-f5f8-4b20-bf2a-ef506cb8129d"
      },
      "source": [
        "import pandas as pd\n",
        "co_dataset=pd.read_csv('/content/Nova_Scotia_Provincial_Ambient_Carbon_Monoxide__CO__Hourly_Data_Halifax_Johnston (1).csv')\n",
        "co_dataset.head(20)"
      ],
      "execution_count": null,
      "outputs": [
        {
          "output_type": "execute_result",
          "data": {
            "text/html": [
              "<div>\n",
              "<style scoped>\n",
              "    .dataframe tbody tr th:only-of-type {\n",
              "        vertical-align: middle;\n",
              "    }\n",
              "\n",
              "    .dataframe tbody tr th {\n",
              "        vertical-align: top;\n",
              "    }\n",
              "\n",
              "    .dataframe thead th {\n",
              "        text-align: right;\n",
              "    }\n",
              "</style>\n",
              "<table border=\"1\" class=\"dataframe\">\n",
              "  <thead>\n",
              "    <tr style=\"text-align: right;\">\n",
              "      <th></th>\n",
              "      <th>Date &amp; Time</th>\n",
              "      <th>Pollutant</th>\n",
              "      <th>Unit</th>\n",
              "      <th>Station</th>\n",
              "      <th>Average</th>\n",
              "    </tr>\n",
              "  </thead>\n",
              "  <tbody>\n",
              "    <tr>\n",
              "      <th>0</th>\n",
              "      <td>01/01/2019 12:00:00 AM</td>\n",
              "      <td>CO</td>\n",
              "      <td>ppm</td>\n",
              "      <td>Halifax Johnston</td>\n",
              "      <td>0.25</td>\n",
              "    </tr>\n",
              "    <tr>\n",
              "      <th>1</th>\n",
              "      <td>01/01/2019 01:00:00 AM</td>\n",
              "      <td>CO</td>\n",
              "      <td>ppm</td>\n",
              "      <td>Halifax Johnston</td>\n",
              "      <td>0.26</td>\n",
              "    </tr>\n",
              "    <tr>\n",
              "      <th>2</th>\n",
              "      <td>01/01/2019 02:00:00 AM</td>\n",
              "      <td>CO</td>\n",
              "      <td>ppm</td>\n",
              "      <td>Halifax Johnston</td>\n",
              "      <td>0.20</td>\n",
              "    </tr>\n",
              "    <tr>\n",
              "      <th>3</th>\n",
              "      <td>01/01/2019 03:00:00 AM</td>\n",
              "      <td>CO</td>\n",
              "      <td>ppm</td>\n",
              "      <td>Halifax Johnston</td>\n",
              "      <td>0.17</td>\n",
              "    </tr>\n",
              "    <tr>\n",
              "      <th>4</th>\n",
              "      <td>01/01/2019 04:00:00 AM</td>\n",
              "      <td>CO</td>\n",
              "      <td>ppm</td>\n",
              "      <td>Halifax Johnston</td>\n",
              "      <td>0.15</td>\n",
              "    </tr>\n",
              "    <tr>\n",
              "      <th>5</th>\n",
              "      <td>01/01/2019 05:00:00 AM</td>\n",
              "      <td>CO</td>\n",
              "      <td>ppm</td>\n",
              "      <td>Halifax Johnston</td>\n",
              "      <td>0.14</td>\n",
              "    </tr>\n",
              "    <tr>\n",
              "      <th>6</th>\n",
              "      <td>01/01/2019 06:00:00 AM</td>\n",
              "      <td>CO</td>\n",
              "      <td>ppm</td>\n",
              "      <td>Halifax Johnston</td>\n",
              "      <td>0.14</td>\n",
              "    </tr>\n",
              "    <tr>\n",
              "      <th>7</th>\n",
              "      <td>01/01/2019 07:00:00 AM</td>\n",
              "      <td>CO</td>\n",
              "      <td>ppm</td>\n",
              "      <td>Halifax Johnston</td>\n",
              "      <td>0.12</td>\n",
              "    </tr>\n",
              "    <tr>\n",
              "      <th>8</th>\n",
              "      <td>01/01/2019 08:00:00 AM</td>\n",
              "      <td>CO</td>\n",
              "      <td>ppm</td>\n",
              "      <td>Halifax Johnston</td>\n",
              "      <td>0.12</td>\n",
              "    </tr>\n",
              "    <tr>\n",
              "      <th>9</th>\n",
              "      <td>01/01/2019 09:00:00 AM</td>\n",
              "      <td>CO</td>\n",
              "      <td>ppm</td>\n",
              "      <td>Halifax Johnston</td>\n",
              "      <td>0.12</td>\n",
              "    </tr>\n",
              "    <tr>\n",
              "      <th>10</th>\n",
              "      <td>01/01/2019 10:00:00 AM</td>\n",
              "      <td>CO</td>\n",
              "      <td>ppm</td>\n",
              "      <td>Halifax Johnston</td>\n",
              "      <td>0.12</td>\n",
              "    </tr>\n",
              "    <tr>\n",
              "      <th>11</th>\n",
              "      <td>01/01/2019 11:00:00 AM</td>\n",
              "      <td>CO</td>\n",
              "      <td>ppm</td>\n",
              "      <td>Halifax Johnston</td>\n",
              "      <td>0.12</td>\n",
              "    </tr>\n",
              "    <tr>\n",
              "      <th>12</th>\n",
              "      <td>01/01/2019 12:00:00 PM</td>\n",
              "      <td>CO</td>\n",
              "      <td>ppm</td>\n",
              "      <td>Halifax Johnston</td>\n",
              "      <td>0.12</td>\n",
              "    </tr>\n",
              "    <tr>\n",
              "      <th>13</th>\n",
              "      <td>01/01/2019 01:00:00 PM</td>\n",
              "      <td>CO</td>\n",
              "      <td>ppm</td>\n",
              "      <td>Halifax Johnston</td>\n",
              "      <td>0.12</td>\n",
              "    </tr>\n",
              "    <tr>\n",
              "      <th>14</th>\n",
              "      <td>01/01/2019 02:00:00 PM</td>\n",
              "      <td>CO</td>\n",
              "      <td>ppm</td>\n",
              "      <td>Halifax Johnston</td>\n",
              "      <td>0.14</td>\n",
              "    </tr>\n",
              "    <tr>\n",
              "      <th>15</th>\n",
              "      <td>01/01/2019 03:00:00 PM</td>\n",
              "      <td>CO</td>\n",
              "      <td>ppm</td>\n",
              "      <td>Halifax Johnston</td>\n",
              "      <td>0.14</td>\n",
              "    </tr>\n",
              "    <tr>\n",
              "      <th>16</th>\n",
              "      <td>01/01/2019 04:00:00 PM</td>\n",
              "      <td>CO</td>\n",
              "      <td>ppm</td>\n",
              "      <td>Halifax Johnston</td>\n",
              "      <td>0.15</td>\n",
              "    </tr>\n",
              "    <tr>\n",
              "      <th>17</th>\n",
              "      <td>01/01/2019 05:00:00 PM</td>\n",
              "      <td>CO</td>\n",
              "      <td>ppm</td>\n",
              "      <td>Halifax Johnston</td>\n",
              "      <td>0.15</td>\n",
              "    </tr>\n",
              "    <tr>\n",
              "      <th>18</th>\n",
              "      <td>01/01/2019 06:00:00 PM</td>\n",
              "      <td>CO</td>\n",
              "      <td>ppm</td>\n",
              "      <td>Halifax Johnston</td>\n",
              "      <td>0.14</td>\n",
              "    </tr>\n",
              "    <tr>\n",
              "      <th>19</th>\n",
              "      <td>01/01/2019 07:00:00 PM</td>\n",
              "      <td>CO</td>\n",
              "      <td>ppm</td>\n",
              "      <td>Halifax Johnston</td>\n",
              "      <td>0.13</td>\n",
              "    </tr>\n",
              "  </tbody>\n",
              "</table>\n",
              "</div>"
            ],
            "text/plain": [
              "               Date & Time Pollutant Unit           Station  Average\n",
              "0   01/01/2019 12:00:00 AM        CO  ppm  Halifax Johnston     0.25\n",
              "1   01/01/2019 01:00:00 AM        CO  ppm  Halifax Johnston     0.26\n",
              "2   01/01/2019 02:00:00 AM        CO  ppm  Halifax Johnston     0.20\n",
              "3   01/01/2019 03:00:00 AM        CO  ppm  Halifax Johnston     0.17\n",
              "4   01/01/2019 04:00:00 AM        CO  ppm  Halifax Johnston     0.15\n",
              "5   01/01/2019 05:00:00 AM        CO  ppm  Halifax Johnston     0.14\n",
              "6   01/01/2019 06:00:00 AM        CO  ppm  Halifax Johnston     0.14\n",
              "7   01/01/2019 07:00:00 AM        CO  ppm  Halifax Johnston     0.12\n",
              "8   01/01/2019 08:00:00 AM        CO  ppm  Halifax Johnston     0.12\n",
              "9   01/01/2019 09:00:00 AM        CO  ppm  Halifax Johnston     0.12\n",
              "10  01/01/2019 10:00:00 AM        CO  ppm  Halifax Johnston     0.12\n",
              "11  01/01/2019 11:00:00 AM        CO  ppm  Halifax Johnston     0.12\n",
              "12  01/01/2019 12:00:00 PM        CO  ppm  Halifax Johnston     0.12\n",
              "13  01/01/2019 01:00:00 PM        CO  ppm  Halifax Johnston     0.12\n",
              "14  01/01/2019 02:00:00 PM        CO  ppm  Halifax Johnston     0.14\n",
              "15  01/01/2019 03:00:00 PM        CO  ppm  Halifax Johnston     0.14\n",
              "16  01/01/2019 04:00:00 PM        CO  ppm  Halifax Johnston     0.15\n",
              "17  01/01/2019 05:00:00 PM        CO  ppm  Halifax Johnston     0.15\n",
              "18  01/01/2019 06:00:00 PM        CO  ppm  Halifax Johnston     0.14\n",
              "19  01/01/2019 07:00:00 PM        CO  ppm  Halifax Johnston     0.13"
            ]
          },
          "metadata": {},
          "execution_count": 45
        }
      ]
    },
    {
      "cell_type": "code",
      "metadata": {
        "colab": {
          "base_uri": "https://localhost:8080/",
          "height": 669
        },
        "id": "XL5uL-LI7hWv",
        "outputId": "787b609e-0ebe-4b4d-83fe-37049f97a330"
      },
      "source": [
        "traffic_dataset=pd.read_csv(\"cleaned_traffic_data.csv\")\n",
        "traffic_dataset.head(20)"
      ],
      "execution_count": null,
      "outputs": [
        {
          "output_type": "execute_result",
          "data": {
            "text/html": [
              "<div>\n",
              "<style scoped>\n",
              "    .dataframe tbody tr th:only-of-type {\n",
              "        vertical-align: middle;\n",
              "    }\n",
              "\n",
              "    .dataframe tbody tr th {\n",
              "        vertical-align: top;\n",
              "    }\n",
              "\n",
              "    .dataframe thead th {\n",
              "        text-align: right;\n",
              "    }\n",
              "</style>\n",
              "<table border=\"1\" class=\"dataframe\">\n",
              "  <thead>\n",
              "    <tr style=\"text-align: right;\">\n",
              "      <th></th>\n",
              "      <th>Date</th>\n",
              "      <th>HIGHWAY</th>\n",
              "      <th>SECTION</th>\n",
              "      <th>SECTION LENGTH</th>\n",
              "      <th>ADT</th>\n",
              "      <th>AADT</th>\n",
              "    </tr>\n",
              "  </thead>\n",
              "  <tbody>\n",
              "    <tr>\n",
              "      <th>0</th>\n",
              "      <td>2019-09-09</td>\n",
              "      <td>1</td>\n",
              "      <td>47</td>\n",
              "      <td>4.50</td>\n",
              "      <td>2.566</td>\n",
              "      <td>2.430</td>\n",
              "    </tr>\n",
              "    <tr>\n",
              "      <th>1</th>\n",
              "      <td>2019-06-17</td>\n",
              "      <td>1</td>\n",
              "      <td>50</td>\n",
              "      <td>7.60</td>\n",
              "      <td>4.266</td>\n",
              "      <td>3.840</td>\n",
              "    </tr>\n",
              "    <tr>\n",
              "      <th>2</th>\n",
              "      <td>2019-06-17</td>\n",
              "      <td>1</td>\n",
              "      <td>50</td>\n",
              "      <td>7.60</td>\n",
              "      <td>3.934</td>\n",
              "      <td>3.545</td>\n",
              "    </tr>\n",
              "    <tr>\n",
              "      <th>3</th>\n",
              "      <td>2019-06-17</td>\n",
              "      <td>1</td>\n",
              "      <td>50</td>\n",
              "      <td>7.60</td>\n",
              "      <td>2.924</td>\n",
              "      <td>2.640</td>\n",
              "    </tr>\n",
              "    <tr>\n",
              "      <th>4</th>\n",
              "      <td>2019-09-09</td>\n",
              "      <td>1</td>\n",
              "      <td>50</td>\n",
              "      <td>7.60</td>\n",
              "      <td>6.164</td>\n",
              "      <td>5.520</td>\n",
              "    </tr>\n",
              "    <tr>\n",
              "      <th>5</th>\n",
              "      <td>2019-06-17</td>\n",
              "      <td>1</td>\n",
              "      <td>50</td>\n",
              "      <td>7.60</td>\n",
              "      <td>2.984</td>\n",
              "      <td>2.690</td>\n",
              "    </tr>\n",
              "    <tr>\n",
              "      <th>6</th>\n",
              "      <td>2019-09-16</td>\n",
              "      <td>1</td>\n",
              "      <td>60</td>\n",
              "      <td>4.61</td>\n",
              "      <td>4.351</td>\n",
              "      <td>3.880</td>\n",
              "    </tr>\n",
              "    <tr>\n",
              "      <th>7</th>\n",
              "      <td>2019-09-09</td>\n",
              "      <td>1</td>\n",
              "      <td>65</td>\n",
              "      <td>9.75</td>\n",
              "      <td>2.074</td>\n",
              "      <td>1.780</td>\n",
              "    </tr>\n",
              "    <tr>\n",
              "      <th>8</th>\n",
              "      <td>2019-09-09</td>\n",
              "      <td>1</td>\n",
              "      <td>70</td>\n",
              "      <td>3.67</td>\n",
              "      <td>4.079</td>\n",
              "      <td>3.650</td>\n",
              "    </tr>\n",
              "    <tr>\n",
              "      <th>9</th>\n",
              "      <td>2019-09-09</td>\n",
              "      <td>1</td>\n",
              "      <td>80</td>\n",
              "      <td>8.96</td>\n",
              "      <td>2.233</td>\n",
              "      <td>2.000</td>\n",
              "    </tr>\n",
              "    <tr>\n",
              "      <th>10</th>\n",
              "      <td>2019-08-15</td>\n",
              "      <td>1</td>\n",
              "      <td>95</td>\n",
              "      <td>1.16</td>\n",
              "      <td>6.803</td>\n",
              "      <td>5.880</td>\n",
              "    </tr>\n",
              "    <tr>\n",
              "      <th>11</th>\n",
              "      <td>2019-08-15</td>\n",
              "      <td>1</td>\n",
              "      <td>100</td>\n",
              "      <td>8.75</td>\n",
              "      <td>3.874</td>\n",
              "      <td>3.350</td>\n",
              "    </tr>\n",
              "    <tr>\n",
              "      <th>12</th>\n",
              "      <td>2019-08-15</td>\n",
              "      <td>1</td>\n",
              "      <td>100</td>\n",
              "      <td>8.75</td>\n",
              "      <td>3.731</td>\n",
              "      <td>3.230</td>\n",
              "    </tr>\n",
              "    <tr>\n",
              "      <th>13</th>\n",
              "      <td>2019-08-15</td>\n",
              "      <td>1</td>\n",
              "      <td>100</td>\n",
              "      <td>8.75</td>\n",
              "      <td>1.254</td>\n",
              "      <td>1.080</td>\n",
              "    </tr>\n",
              "    <tr>\n",
              "      <th>14</th>\n",
              "      <td>2019-08-15</td>\n",
              "      <td>1</td>\n",
              "      <td>100</td>\n",
              "      <td>8.75</td>\n",
              "      <td>1.739</td>\n",
              "      <td>1.500</td>\n",
              "    </tr>\n",
              "    <tr>\n",
              "      <th>15</th>\n",
              "      <td>2019-08-15</td>\n",
              "      <td>1</td>\n",
              "      <td>100</td>\n",
              "      <td>8.75</td>\n",
              "      <td>1.238</td>\n",
              "      <td>1.070</td>\n",
              "    </tr>\n",
              "    <tr>\n",
              "      <th>16</th>\n",
              "      <td>2019-10-21</td>\n",
              "      <td>2</td>\n",
              "      <td>30</td>\n",
              "      <td>2.55</td>\n",
              "      <td>5.047</td>\n",
              "      <td>4.860</td>\n",
              "    </tr>\n",
              "    <tr>\n",
              "      <th>17</th>\n",
              "      <td>2019-10-28</td>\n",
              "      <td>2</td>\n",
              "      <td>40</td>\n",
              "      <td>6.88</td>\n",
              "      <td>15.445</td>\n",
              "      <td>15.500</td>\n",
              "    </tr>\n",
              "    <tr>\n",
              "      <th>18</th>\n",
              "      <td>2019-07-10</td>\n",
              "      <td>2</td>\n",
              "      <td>50</td>\n",
              "      <td>10.16</td>\n",
              "      <td>5.088</td>\n",
              "      <td>3.920</td>\n",
              "    </tr>\n",
              "    <tr>\n",
              "      <th>19</th>\n",
              "      <td>2019-07-10</td>\n",
              "      <td>2</td>\n",
              "      <td>60</td>\n",
              "      <td>5.98</td>\n",
              "      <td>10.808</td>\n",
              "      <td>9.590</td>\n",
              "    </tr>\n",
              "  </tbody>\n",
              "</table>\n",
              "</div>"
            ],
            "text/plain": [
              "          Date  HIGHWAY  SECTION  SECTION LENGTH     ADT    AADT\n",
              "0   2019-09-09        1       47            4.50   2.566   2.430\n",
              "1   2019-06-17        1       50            7.60   4.266   3.840\n",
              "2   2019-06-17        1       50            7.60   3.934   3.545\n",
              "3   2019-06-17        1       50            7.60   2.924   2.640\n",
              "4   2019-09-09        1       50            7.60   6.164   5.520\n",
              "5   2019-06-17        1       50            7.60   2.984   2.690\n",
              "6   2019-09-16        1       60            4.61   4.351   3.880\n",
              "7   2019-09-09        1       65            9.75   2.074   1.780\n",
              "8   2019-09-09        1       70            3.67   4.079   3.650\n",
              "9   2019-09-09        1       80            8.96   2.233   2.000\n",
              "10  2019-08-15        1       95            1.16   6.803   5.880\n",
              "11  2019-08-15        1      100            8.75   3.874   3.350\n",
              "12  2019-08-15        1      100            8.75   3.731   3.230\n",
              "13  2019-08-15        1      100            8.75   1.254   1.080\n",
              "14  2019-08-15        1      100            8.75   1.739   1.500\n",
              "15  2019-08-15        1      100            8.75   1.238   1.070\n",
              "16  2019-10-21        2       30            2.55   5.047   4.860\n",
              "17  2019-10-28        2       40            6.88  15.445  15.500\n",
              "18  2019-07-10        2       50           10.16   5.088   3.920\n",
              "19  2019-07-10        2       60            5.98  10.808   9.590"
            ]
          },
          "metadata": {},
          "execution_count": 46
        }
      ]
    },
    {
      "cell_type": "markdown",
      "metadata": {
        "id": "fNVSfw2-8XVQ"
      },
      "source": [
        "Dimensions of the data\n",
        "More columns might distract the model due to curse of dimensionality and less rows might be responsible for poor model  "
      ]
    },
    {
      "cell_type": "code",
      "metadata": {
        "colab": {
          "base_uri": "https://localhost:8080/"
        },
        "id": "5FuGObrb71tu",
        "outputId": "54769a7e-0a21-4de6-e503-7dd172ff8609"
      },
      "source": [
        "print(\"Dimensions of traffic  dataset are:-\", traffic_dataset.shape)\n",
        "print(\"Dimensions of CO  dataset are:-\", co_dataset.shape)"
      ],
      "execution_count": null,
      "outputs": [
        {
          "output_type": "stream",
          "name": "stdout",
          "text": [
            "Dimensions of traffic  dataset are:- (586, 6)\n",
            "Dimensions of CO  dataset are:- (236687, 5)\n"
          ]
        }
      ]
    },
    {
      "cell_type": "markdown",
      "metadata": {
        "id": "UI5ZIX7c_guu"
      },
      "source": [
        "Data type of each attribute Strings may need to be converted to floating values or integers to represent categorical or ordinal values"
      ]
    },
    {
      "cell_type": "code",
      "metadata": {
        "colab": {
          "base_uri": "https://localhost:8080/"
        },
        "id": "C7xyo0eS9JCv",
        "outputId": "4340ea45-e6a5-43ea-9f2f-e1d0f3cfe06f"
      },
      "source": [
        "print(\"Data types of traffic dataset are\")\n",
        "print(traffic_dataset.dtypes)"
      ],
      "execution_count": null,
      "outputs": [
        {
          "output_type": "stream",
          "name": "stdout",
          "text": [
            "Data types of traffic dataset are\n",
            "Date               object\n",
            "HIGHWAY             int64\n",
            "SECTION             int64\n",
            "SECTION LENGTH    float64\n",
            "ADT               float64\n",
            "AADT              float64\n",
            "dtype: object\n"
          ]
        }
      ]
    },
    {
      "cell_type": "code",
      "metadata": {
        "colab": {
          "base_uri": "https://localhost:8080/"
        },
        "id": "jYSjYVfSAE2j",
        "outputId": "32bcb9be-aad7-4beb-be52-4f783a7a32fd"
      },
      "source": [
        "print(\"Data types of CO dataset are\")\n",
        "print(co_dataset.dtypes)"
      ],
      "execution_count": null,
      "outputs": [
        {
          "output_type": "stream",
          "name": "stdout",
          "text": [
            "Data types of CO dataset are\n",
            "Date & Time     object\n",
            "Pollutant       object\n",
            "Unit            object\n",
            "Station         object\n",
            "Average        float64\n",
            "dtype: object\n"
          ]
        }
      ]
    },
    {
      "cell_type": "markdown",
      "metadata": {
        "id": "u4hn8zKVAfn6"
      },
      "source": [
        "As we can see in CO dataset Unit,pollutant and station are not useful beacuse all have mostly single values so we will drop them and also as our traffic dataset has data that is dte wise so we will extract only the dates from the date and time column of CO dataset and we will average the Average attribute for each date "
      ]
    },
    {
      "cell_type": "code",
      "metadata": {
        "id": "Nf4QyZnrAPOC"
      },
      "source": [
        "co_dataset['just_date'] = pd.to_datetime(co_dataset['Date & Time']).dt.strftime('%m/%d/%Y')"
      ],
      "execution_count": null,
      "outputs": []
    },
    {
      "cell_type": "code",
      "metadata": {
        "colab": {
          "base_uri": "https://localhost:8080/"
        },
        "id": "EBJFpqd9Bgua",
        "outputId": "186ef9a4-8752-4f96-ef1c-61cff38fc9f8"
      },
      "source": [
        "co_dataset_processed=co_dataset.groupby(pd.Grouper(key='just_date',axis=0)).mean()\n",
        "print(co_dataset_processed.head(20))"
      ],
      "execution_count": null,
      "outputs": [
        {
          "output_type": "stream",
          "name": "stdout",
          "text": [
            "             Average\n",
            "just_date           \n",
            "01/01/2019  0.146250\n",
            "01/02/2019  0.152917\n",
            "01/03/2019  0.198333\n",
            "01/04/2019  0.178333\n",
            "01/05/2019  0.197083\n",
            "01/06/2019  0.159167\n",
            "01/07/2019  0.150000\n",
            "01/08/2019  0.165833\n",
            "01/09/2019  0.136667\n",
            "01/10/2019  0.171667\n",
            "01/11/2019  0.148750\n",
            "01/12/2019  0.150833\n",
            "01/13/2019  0.157083\n",
            "01/14/2019  0.194583\n",
            "01/15/2019  0.161667\n",
            "01/16/2019  0.201250\n",
            "01/17/2019  0.171667\n",
            "01/18/2019  0.163333\n",
            "01/19/2019  0.151667\n",
            "01/20/2019  0.120000\n"
          ]
        }
      ]
    },
    {
      "cell_type": "markdown",
      "metadata": {
        "id": "huN7jpkZ6IPy"
      },
      "source": [
        "Converting the date to our required format"
      ]
    },
    {
      "cell_type": "code",
      "metadata": {
        "colab": {
          "base_uri": "https://localhost:8080/",
          "height": 419
        },
        "id": "kxutjIVWGqio",
        "outputId": "52264965-c371-4025-eba2-7390ce0514c4"
      },
      "source": [
        "traffic_dataset['Date']=pd.to_datetime(traffic_dataset['Date'])\n",
        "\n",
        "traffic_dataset['Date']=traffic_dataset['Date'].dt.strftime('%m/%d/%Y')\n",
        "traffic_dataset"
      ],
      "execution_count": null,
      "outputs": [
        {
          "output_type": "execute_result",
          "data": {
            "text/html": [
              "<div>\n",
              "<style scoped>\n",
              "    .dataframe tbody tr th:only-of-type {\n",
              "        vertical-align: middle;\n",
              "    }\n",
              "\n",
              "    .dataframe tbody tr th {\n",
              "        vertical-align: top;\n",
              "    }\n",
              "\n",
              "    .dataframe thead th {\n",
              "        text-align: right;\n",
              "    }\n",
              "</style>\n",
              "<table border=\"1\" class=\"dataframe\">\n",
              "  <thead>\n",
              "    <tr style=\"text-align: right;\">\n",
              "      <th></th>\n",
              "      <th>Date</th>\n",
              "      <th>HIGHWAY</th>\n",
              "      <th>SECTION</th>\n",
              "      <th>SECTION LENGTH</th>\n",
              "      <th>ADT</th>\n",
              "      <th>AADT</th>\n",
              "    </tr>\n",
              "  </thead>\n",
              "  <tbody>\n",
              "    <tr>\n",
              "      <th>0</th>\n",
              "      <td>09/09/2019</td>\n",
              "      <td>1</td>\n",
              "      <td>47</td>\n",
              "      <td>4.50</td>\n",
              "      <td>2.566</td>\n",
              "      <td>2.430</td>\n",
              "    </tr>\n",
              "    <tr>\n",
              "      <th>1</th>\n",
              "      <td>06/17/2019</td>\n",
              "      <td>1</td>\n",
              "      <td>50</td>\n",
              "      <td>7.60</td>\n",
              "      <td>4.266</td>\n",
              "      <td>3.840</td>\n",
              "    </tr>\n",
              "    <tr>\n",
              "      <th>2</th>\n",
              "      <td>06/17/2019</td>\n",
              "      <td>1</td>\n",
              "      <td>50</td>\n",
              "      <td>7.60</td>\n",
              "      <td>3.934</td>\n",
              "      <td>3.545</td>\n",
              "    </tr>\n",
              "    <tr>\n",
              "      <th>3</th>\n",
              "      <td>06/17/2019</td>\n",
              "      <td>1</td>\n",
              "      <td>50</td>\n",
              "      <td>7.60</td>\n",
              "      <td>2.924</td>\n",
              "      <td>2.640</td>\n",
              "    </tr>\n",
              "    <tr>\n",
              "      <th>4</th>\n",
              "      <td>09/09/2019</td>\n",
              "      <td>1</td>\n",
              "      <td>50</td>\n",
              "      <td>7.60</td>\n",
              "      <td>6.164</td>\n",
              "      <td>5.520</td>\n",
              "    </tr>\n",
              "    <tr>\n",
              "      <th>...</th>\n",
              "      <td>...</td>\n",
              "      <td>...</td>\n",
              "      <td>...</td>\n",
              "      <td>...</td>\n",
              "      <td>...</td>\n",
              "      <td>...</td>\n",
              "    </tr>\n",
              "    <tr>\n",
              "      <th>581</th>\n",
              "      <td>06/27/2019</td>\n",
              "      <td>374</td>\n",
              "      <td>28</td>\n",
              "      <td>6.83</td>\n",
              "      <td>241.000</td>\n",
              "      <td>220.000</td>\n",
              "    </tr>\n",
              "    <tr>\n",
              "      <th>582</th>\n",
              "      <td>06/27/2019</td>\n",
              "      <td>374</td>\n",
              "      <td>30</td>\n",
              "      <td>11.04</td>\n",
              "      <td>488.000</td>\n",
              "      <td>440.000</td>\n",
              "    </tr>\n",
              "    <tr>\n",
              "      <th>583</th>\n",
              "      <td>06/04/2019</td>\n",
              "      <td>376</td>\n",
              "      <td>10</td>\n",
              "      <td>5.68</td>\n",
              "      <td>1.409</td>\n",
              "      <td>1.320</td>\n",
              "    </tr>\n",
              "    <tr>\n",
              "      <th>584</th>\n",
              "      <td>05/28/2019</td>\n",
              "      <td>376</td>\n",
              "      <td>20</td>\n",
              "      <td>5.96</td>\n",
              "      <td>2.215</td>\n",
              "      <td>2.080</td>\n",
              "    </tr>\n",
              "    <tr>\n",
              "      <th>585</th>\n",
              "      <td>05/28/2019</td>\n",
              "      <td>376</td>\n",
              "      <td>30</td>\n",
              "      <td>4.76</td>\n",
              "      <td>4.876</td>\n",
              "      <td>4.580</td>\n",
              "    </tr>\n",
              "  </tbody>\n",
              "</table>\n",
              "<p>586 rows × 6 columns</p>\n",
              "</div>"
            ],
            "text/plain": [
              "           Date  HIGHWAY  SECTION  SECTION LENGTH      ADT     AADT\n",
              "0    09/09/2019        1       47            4.50    2.566    2.430\n",
              "1    06/17/2019        1       50            7.60    4.266    3.840\n",
              "2    06/17/2019        1       50            7.60    3.934    3.545\n",
              "3    06/17/2019        1       50            7.60    2.924    2.640\n",
              "4    09/09/2019        1       50            7.60    6.164    5.520\n",
              "..          ...      ...      ...             ...      ...      ...\n",
              "581  06/27/2019      374       28            6.83  241.000  220.000\n",
              "582  06/27/2019      374       30           11.04  488.000  440.000\n",
              "583  06/04/2019      376       10            5.68    1.409    1.320\n",
              "584  05/28/2019      376       20            5.96    2.215    2.080\n",
              "585  05/28/2019      376       30            4.76    4.876    4.580\n",
              "\n",
              "[586 rows x 6 columns]"
            ]
          },
          "metadata": {},
          "execution_count": 52
        }
      ]
    },
    {
      "cell_type": "markdown",
      "metadata": {
        "id": "cWPVUlepHe1d"
      },
      "source": [
        "Merging the two dataset. We will merge the two dataset on date "
      ]
    },
    {
      "cell_type": "code",
      "metadata": {
        "id": "pDORC6DoHqGJ"
      },
      "source": [
        "merged_dataset=pd.merge(traffic_dataset,co_dataset_processed,left_on='Date',right_on='just_date')\n"
      ],
      "execution_count": null,
      "outputs": []
    },
    {
      "cell_type": "markdown",
      "metadata": {
        "id": "KYCTnOnC598h"
      },
      "source": [
        "Having a look at the merged dataset"
      ]
    },
    {
      "cell_type": "code",
      "metadata": {
        "colab": {
          "base_uri": "https://localhost:8080/",
          "height": 669
        },
        "id": "OqjYZXI5H2Qr",
        "outputId": "64ebc497-832f-433a-88d0-d211206086aa"
      },
      "source": [
        "merged_dataset.head(20)"
      ],
      "execution_count": null,
      "outputs": [
        {
          "output_type": "execute_result",
          "data": {
            "text/html": [
              "<div>\n",
              "<style scoped>\n",
              "    .dataframe tbody tr th:only-of-type {\n",
              "        vertical-align: middle;\n",
              "    }\n",
              "\n",
              "    .dataframe tbody tr th {\n",
              "        vertical-align: top;\n",
              "    }\n",
              "\n",
              "    .dataframe thead th {\n",
              "        text-align: right;\n",
              "    }\n",
              "</style>\n",
              "<table border=\"1\" class=\"dataframe\">\n",
              "  <thead>\n",
              "    <tr style=\"text-align: right;\">\n",
              "      <th></th>\n",
              "      <th>Date</th>\n",
              "      <th>HIGHWAY</th>\n",
              "      <th>SECTION</th>\n",
              "      <th>SECTION LENGTH</th>\n",
              "      <th>ADT</th>\n",
              "      <th>AADT</th>\n",
              "      <th>Average</th>\n",
              "    </tr>\n",
              "  </thead>\n",
              "  <tbody>\n",
              "    <tr>\n",
              "      <th>0</th>\n",
              "      <td>09/09/2019</td>\n",
              "      <td>1</td>\n",
              "      <td>47</td>\n",
              "      <td>4.50</td>\n",
              "      <td>2.566</td>\n",
              "      <td>2.430</td>\n",
              "      <td>0.122174</td>\n",
              "    </tr>\n",
              "    <tr>\n",
              "      <th>1</th>\n",
              "      <td>09/09/2019</td>\n",
              "      <td>1</td>\n",
              "      <td>50</td>\n",
              "      <td>7.60</td>\n",
              "      <td>6.164</td>\n",
              "      <td>5.520</td>\n",
              "      <td>0.122174</td>\n",
              "    </tr>\n",
              "    <tr>\n",
              "      <th>2</th>\n",
              "      <td>09/09/2019</td>\n",
              "      <td>1</td>\n",
              "      <td>65</td>\n",
              "      <td>9.75</td>\n",
              "      <td>2.074</td>\n",
              "      <td>1.780</td>\n",
              "      <td>0.122174</td>\n",
              "    </tr>\n",
              "    <tr>\n",
              "      <th>3</th>\n",
              "      <td>09/09/2019</td>\n",
              "      <td>1</td>\n",
              "      <td>70</td>\n",
              "      <td>3.67</td>\n",
              "      <td>4.079</td>\n",
              "      <td>3.650</td>\n",
              "      <td>0.122174</td>\n",
              "    </tr>\n",
              "    <tr>\n",
              "      <th>4</th>\n",
              "      <td>09/09/2019</td>\n",
              "      <td>1</td>\n",
              "      <td>80</td>\n",
              "      <td>8.96</td>\n",
              "      <td>2.233</td>\n",
              "      <td>2.000</td>\n",
              "      <td>0.122174</td>\n",
              "    </tr>\n",
              "    <tr>\n",
              "      <th>5</th>\n",
              "      <td>09/09/2019</td>\n",
              "      <td>202</td>\n",
              "      <td>5</td>\n",
              "      <td>7.45</td>\n",
              "      <td>421.000</td>\n",
              "      <td>380.000</td>\n",
              "      <td>0.122174</td>\n",
              "    </tr>\n",
              "    <tr>\n",
              "      <th>6</th>\n",
              "      <td>09/09/2019</td>\n",
              "      <td>202</td>\n",
              "      <td>5</td>\n",
              "      <td>7.45</td>\n",
              "      <td>419.000</td>\n",
              "      <td>370.000</td>\n",
              "      <td>0.122174</td>\n",
              "    </tr>\n",
              "    <tr>\n",
              "      <th>7</th>\n",
              "      <td>09/09/2019</td>\n",
              "      <td>202</td>\n",
              "      <td>7</td>\n",
              "      <td>8.32</td>\n",
              "      <td>581.000</td>\n",
              "      <td>520.000</td>\n",
              "      <td>0.122174</td>\n",
              "    </tr>\n",
              "    <tr>\n",
              "      <th>8</th>\n",
              "      <td>09/09/2019</td>\n",
              "      <td>215</td>\n",
              "      <td>40</td>\n",
              "      <td>5.42</td>\n",
              "      <td>2.430</td>\n",
              "      <td>2.170</td>\n",
              "      <td>0.122174</td>\n",
              "    </tr>\n",
              "    <tr>\n",
              "      <th>9</th>\n",
              "      <td>06/17/2019</td>\n",
              "      <td>1</td>\n",
              "      <td>50</td>\n",
              "      <td>7.60</td>\n",
              "      <td>4.266</td>\n",
              "      <td>3.840</td>\n",
              "      <td>0.144167</td>\n",
              "    </tr>\n",
              "    <tr>\n",
              "      <th>10</th>\n",
              "      <td>06/17/2019</td>\n",
              "      <td>1</td>\n",
              "      <td>50</td>\n",
              "      <td>7.60</td>\n",
              "      <td>3.934</td>\n",
              "      <td>3.545</td>\n",
              "      <td>0.144167</td>\n",
              "    </tr>\n",
              "    <tr>\n",
              "      <th>11</th>\n",
              "      <td>06/17/2019</td>\n",
              "      <td>1</td>\n",
              "      <td>50</td>\n",
              "      <td>7.60</td>\n",
              "      <td>2.924</td>\n",
              "      <td>2.640</td>\n",
              "      <td>0.144167</td>\n",
              "    </tr>\n",
              "    <tr>\n",
              "      <th>12</th>\n",
              "      <td>06/17/2019</td>\n",
              "      <td>1</td>\n",
              "      <td>50</td>\n",
              "      <td>7.60</td>\n",
              "      <td>2.984</td>\n",
              "      <td>2.690</td>\n",
              "      <td>0.144167</td>\n",
              "    </tr>\n",
              "    <tr>\n",
              "      <th>13</th>\n",
              "      <td>06/17/2019</td>\n",
              "      <td>236</td>\n",
              "      <td>50</td>\n",
              "      <td>12.62</td>\n",
              "      <td>1.771</td>\n",
              "      <td>1.590</td>\n",
              "      <td>0.144167</td>\n",
              "    </tr>\n",
              "    <tr>\n",
              "      <th>14</th>\n",
              "      <td>06/17/2019</td>\n",
              "      <td>246</td>\n",
              "      <td>10</td>\n",
              "      <td>7.99</td>\n",
              "      <td>554.000</td>\n",
              "      <td>500.000</td>\n",
              "      <td>0.144167</td>\n",
              "    </tr>\n",
              "    <tr>\n",
              "      <th>15</th>\n",
              "      <td>06/17/2019</td>\n",
              "      <td>289</td>\n",
              "      <td>3</td>\n",
              "      <td>12.74</td>\n",
              "      <td>805.000</td>\n",
              "      <td>750.000</td>\n",
              "      <td>0.144167</td>\n",
              "    </tr>\n",
              "    <tr>\n",
              "      <th>16</th>\n",
              "      <td>09/16/2019</td>\n",
              "      <td>1</td>\n",
              "      <td>60</td>\n",
              "      <td>4.61</td>\n",
              "      <td>4.351</td>\n",
              "      <td>3.880</td>\n",
              "      <td>0.101667</td>\n",
              "    </tr>\n",
              "    <tr>\n",
              "      <th>17</th>\n",
              "      <td>09/16/2019</td>\n",
              "      <td>3</td>\n",
              "      <td>30</td>\n",
              "      <td>10.83</td>\n",
              "      <td>5.026</td>\n",
              "      <td>4.480</td>\n",
              "      <td>0.101667</td>\n",
              "    </tr>\n",
              "    <tr>\n",
              "      <th>18</th>\n",
              "      <td>09/16/2019</td>\n",
              "      <td>3</td>\n",
              "      <td>40</td>\n",
              "      <td>7.83</td>\n",
              "      <td>1.357</td>\n",
              "      <td>1.210</td>\n",
              "      <td>0.101667</td>\n",
              "    </tr>\n",
              "    <tr>\n",
              "      <th>19</th>\n",
              "      <td>09/16/2019</td>\n",
              "      <td>3</td>\n",
              "      <td>40</td>\n",
              "      <td>7.83</td>\n",
              "      <td>1.387</td>\n",
              "      <td>1.230</td>\n",
              "      <td>0.101667</td>\n",
              "    </tr>\n",
              "  </tbody>\n",
              "</table>\n",
              "</div>"
            ],
            "text/plain": [
              "          Date  HIGHWAY  SECTION  SECTION LENGTH      ADT     AADT   Average\n",
              "0   09/09/2019        1       47            4.50    2.566    2.430  0.122174\n",
              "1   09/09/2019        1       50            7.60    6.164    5.520  0.122174\n",
              "2   09/09/2019        1       65            9.75    2.074    1.780  0.122174\n",
              "3   09/09/2019        1       70            3.67    4.079    3.650  0.122174\n",
              "4   09/09/2019        1       80            8.96    2.233    2.000  0.122174\n",
              "5   09/09/2019      202        5            7.45  421.000  380.000  0.122174\n",
              "6   09/09/2019      202        5            7.45  419.000  370.000  0.122174\n",
              "7   09/09/2019      202        7            8.32  581.000  520.000  0.122174\n",
              "8   09/09/2019      215       40            5.42    2.430    2.170  0.122174\n",
              "9   06/17/2019        1       50            7.60    4.266    3.840  0.144167\n",
              "10  06/17/2019        1       50            7.60    3.934    3.545  0.144167\n",
              "11  06/17/2019        1       50            7.60    2.924    2.640  0.144167\n",
              "12  06/17/2019        1       50            7.60    2.984    2.690  0.144167\n",
              "13  06/17/2019      236       50           12.62    1.771    1.590  0.144167\n",
              "14  06/17/2019      246       10            7.99  554.000  500.000  0.144167\n",
              "15  06/17/2019      289        3           12.74  805.000  750.000  0.144167\n",
              "16  09/16/2019        1       60            4.61    4.351    3.880  0.101667\n",
              "17  09/16/2019        3       30           10.83    5.026    4.480  0.101667\n",
              "18  09/16/2019        3       40            7.83    1.357    1.210  0.101667\n",
              "19  09/16/2019        3       40            7.83    1.387    1.230  0.101667"
            ]
          },
          "metadata": {},
          "execution_count": 10
        }
      ]
    },
    {
      "cell_type": "markdown",
      "metadata": {
        "id": "wfUeKeIv6hIK"
      },
      "source": [
        "Analysing the merged dataset"
      ]
    },
    {
      "cell_type": "code",
      "metadata": {
        "colab": {
          "base_uri": "https://localhost:8080/"
        },
        "id": "f5Tgk6MCLIh2",
        "outputId": "c7d831c3-ca73-48bc-a7ea-bf7b7e2ffee5"
      },
      "source": [
        "print(\"Data types of Merged dataset are\")\n",
        "print(merged_dataset.dtypes)\n",
        "print(\"Shape of Merged dataset are\")\n",
        "print(merged_dataset.shape)"
      ],
      "execution_count": null,
      "outputs": [
        {
          "output_type": "stream",
          "name": "stdout",
          "text": [
            "Data types of Merged dataset are\n",
            "Date               object\n",
            "HIGHWAY             int64\n",
            "SECTION             int64\n",
            "SECTION LENGTH    float64\n",
            "ADT               float64\n",
            "AADT              float64\n",
            "Average           float64\n",
            "dtype: object\n",
            "Shape of Merged dataset are\n",
            "(586, 7)\n"
          ]
        }
      ]
    },
    {
      "cell_type": "markdown",
      "metadata": {
        "id": "ib-yqKo1EAFV"
      },
      "source": [
        "Descriptive Statistics of the datasets"
      ]
    },
    {
      "cell_type": "code",
      "metadata": {
        "colab": {
          "base_uri": "https://localhost:8080/"
        },
        "id": "9I8vxjH4DA3n",
        "outputId": "2c40bf50-cdb0-422a-cf26-4870e8804163"
      },
      "source": [
        "pd.set_option('display.max_columns', None)\n",
        "description = merged_dataset.describe()\n",
        "print(description)"
      ],
      "execution_count": null,
      "outputs": [
        {
          "output_type": "stream",
          "name": "stdout",
          "text": [
            "          HIGHWAY     SECTION  SECTION LENGTH         ADT       AADT  \\\n",
            "count  586.000000  586.000000      586.000000  586.000000  586.00000   \n",
            "mean   148.576792   52.779863        7.401891  197.050370  212.73780   \n",
            "std    125.552938   56.718809        3.981491  304.282428  303.89292   \n",
            "min      1.000000    1.000000        0.200000    1.004000    1.00000   \n",
            "25%      7.000000   17.000000        4.150000    2.838750    3.60000   \n",
            "50%    104.000000   30.000000        7.253500    8.162000   10.95000   \n",
            "75%    245.000000   60.000000       10.040000  381.500000  430.00000   \n",
            "max    376.000000  270.000000       20.720000  995.000000  990.00000   \n",
            "\n",
            "          Average  \n",
            "count  586.000000  \n",
            "mean     0.112084  \n",
            "std      0.024675  \n",
            "min      0.045417  \n",
            "25%      0.092917  \n",
            "50%      0.110833  \n",
            "75%      0.124583  \n",
            "max      0.186875  \n"
          ]
        }
      ]
    },
    {
      "cell_type": "markdown",
      "metadata": {
        "id": "5EP6UacdNRO_"
      },
      "source": [
        "Correlation between attributes in a dataset  linear and logistic regression can suffer poor performance if there are highly correlated attributes in your datase"
      ]
    },
    {
      "cell_type": "code",
      "metadata": {
        "colab": {
          "base_uri": "https://localhost:8080/"
        },
        "id": "0evSrUqaL05O",
        "outputId": "819ff778-773e-4972-9912-4b3a009c0433"
      },
      "source": [
        "correlations = merged_dataset.corr(method='pearson')\n",
        "print(correlations)"
      ],
      "execution_count": null,
      "outputs": [
        {
          "output_type": "stream",
          "name": "stdout",
          "text": [
            "                 HIGHWAY   SECTION  SECTION LENGTH       ADT      AADT  \\\n",
            "HIGHWAY         1.000000 -0.386533        0.179073  0.199711  0.234263   \n",
            "SECTION        -0.386533  1.000000       -0.077969 -0.182410 -0.217007   \n",
            "SECTION LENGTH  0.179073 -0.077969        1.000000  0.280939  0.285422   \n",
            "ADT             0.199711 -0.182410        0.280939  1.000000  0.780457   \n",
            "AADT            0.234263 -0.217007        0.285422  0.780457  1.000000   \n",
            "Average        -0.073669  0.027754        0.077435 -0.008396 -0.049260   \n",
            "\n",
            "                 Average  \n",
            "HIGHWAY        -0.073669  \n",
            "SECTION         0.027754  \n",
            "SECTION LENGTH  0.077435  \n",
            "ADT            -0.008396  \n",
            "AADT           -0.049260  \n",
            "Average         1.000000  \n"
          ]
        }
      ]
    },
    {
      "cell_type": "markdown",
      "metadata": {
        "id": "pE9DLAPfSzUV"
      },
      "source": [
        "Visualization of data"
      ]
    },
    {
      "cell_type": "code",
      "metadata": {
        "colab": {
          "base_uri": "https://localhost:8080/",
          "height": 282
        },
        "id": "GkJjfcLEMMEi",
        "outputId": "9f6550c2-2be4-4c60-b75b-d7b7f489037f"
      },
      "source": [
        "import matplotlib.pyplot as pl\n",
        "merged_dataset.plot.area()"
      ],
      "execution_count": null,
      "outputs": [
        {
          "output_type": "execute_result",
          "data": {
            "text/plain": [
              "<matplotlib.axes._subplots.AxesSubplot at 0x7f6bf42d7710>"
            ]
          },
          "metadata": {},
          "execution_count": 19
        },
        {
          "output_type": "display_data",
          "data": {
            "image/png": "[encoded data removed]",
            "text/plain": [
              "<Figure size 432x288 with 1 Axes>"
            ]
          },
          "metadata": {
            "needs_background": "light"
          }
        }
      ]
    },
    {
      "cell_type": "markdown",
      "metadata": {
        "id": "w8NWkuCW6nnr"
      },
      "source": [
        "Here we can see that there is a good amount of correlation between ADT and AADT whichh is not good foe the Linear Regression model"
      ]
    },
    {
      "cell_type": "markdown",
      "metadata": {
        "id": "1OJdPXffebwH"
      },
      "source": [
        "**Task 2**"
      ]
    },
    {
      "cell_type": "markdown",
      "metadata": {
        "id": "y_6AI1Xj4QF_"
      },
      "source": [
        "**1)Describe how the linear regression algorithm works.**\n"
      ]
    },
    {
      "cell_type": "markdown",
      "metadata": {
        "id": "L3Iy4JFUeko7"
      },
      "source": [
        "We will divide the dataset on the basis of months so all the entries with months as November and december are test dataset"
      ]
    },
    {
      "cell_type": "code",
      "metadata": {
        "id": "-FuZhFoONm4p"
      },
      "source": [
        " test_dataset= merged_dataset[(pd.DatetimeIndex(merged_dataset['Date']).month>10)]\n",
        " train_dataset=merged_dataset[~(pd.DatetimeIndex(merged_dataset['Date']).month>10)]"
      ],
      "execution_count": null,
      "outputs": []
    },
    {
      "cell_type": "markdown",
      "metadata": {
        "id": "o2XBqzdC7YI6"
      },
      "source": [
        "For the independent variables we do not need date at all as we are not doing anything related o time series here."
      ]
    },
    {
      "cell_type": "code",
      "metadata": {
        "id": "g1LQc6r2hhjU"
      },
      "source": [
        "X_train=train_dataset.drop(columns=['Date','Average'])\n",
        "y_train=train_dataset['Average']\n",
        "X_test=test_dataset.drop(columns=['Date','Average'])\n",
        "y_test=test_dataset['Average']"
      ],
      "execution_count": null,
      "outputs": []
    },
    {
      "cell_type": "markdown",
      "metadata": {
        "id": "x_1lG3R07j_q"
      },
      "source": [
        "The below code shows how much each independent feature is dependent on the dependent variable"
      ]
    },
    {
      "cell_type": "code",
      "metadata": {
        "colab": {
          "base_uri": "https://localhost:8080/",
          "height": 409
        },
        "id": "lx1j_Oo7dQdq",
        "outputId": "9432746e-2d9b-4c74-e153-b2e1f445ee10"
      },
      "source": [
        "#reference:-https://machinelearningmastery.com/feature-selection-for-regression-data/\n",
        "from sklearn.feature_selection import SelectKBest\n",
        "from sklearn.feature_selection import f_regression\n",
        "from matplotlib import pyplot\n",
        " \n",
        "# selecting\n",
        "def select_features(X_train, y_train, X_test):\n",
        "\tfs = SelectKBest(score_func=f_regression, k=3)\n",
        "\tfs.fit(X_train, y_train)\n",
        "\tX_train_fs = fs.transform(X_train)\n",
        "\tX_test_fs = fs.transform(X_test)\n",
        "\treturn X_train_fs, X_test_fs, fs\n",
        "\n",
        "feature_names=X_train.columns\n",
        "X_train_fs, X_test_fs, fs = select_features(X_train, y_train, X_test)\n",
        "for i in range(len(fs.scores_)):\n",
        "\tprint('Feature %s: %f' % (feature_names[i], fs.scores_[i]))\n",
        "pyplot.xticks(rotation=45)\n",
        "pyplot.bar([feature_names[i] for i in range(len(fs.scores_))], fs.scores_)\n",
        "pyplot.show()"
      ],
      "execution_count": null,
      "outputs": [
        {
          "output_type": "stream",
          "name": "stdout",
          "text": [
            "Feature HIGHWAY: 2.424789\n",
            "Feature SECTION: 0.025263\n",
            "Feature SECTION LENGTH: 3.698173\n",
            "Feature ADT: 0.002266\n",
            "Feature AADT: 0.940353\n"
          ]
        },
        {
          "output_type": "display_data",
          "data": {
            "image/png": "[encoded data removed]",
            "text/plain": [
              "<Figure size 432x288 with 1 Axes>"
            ]
          },
          "metadata": {
            "needs_background": "light"
          }
        }
      ]
    },
    {
      "cell_type": "code",
      "metadata": {
        "colab": {
          "base_uri": "https://localhost:8080/",
          "height": 419
        },
        "id": "0oAi6l2YpNbn",
        "outputId": "4e726ee4-b77e-479a-869f-be183d1119d2"
      },
      "source": [
        "X_train"
      ],
      "execution_count": null,
      "outputs": [
        {
          "output_type": "execute_result",
          "data": {
            "text/html": [
              "<div>\n",
              "<style scoped>\n",
              "    .dataframe tbody tr th:only-of-type {\n",
              "        vertical-align: middle;\n",
              "    }\n",
              "\n",
              "    .dataframe tbody tr th {\n",
              "        vertical-align: top;\n",
              "    }\n",
              "\n",
              "    .dataframe thead th {\n",
              "        text-align: right;\n",
              "    }\n",
              "</style>\n",
              "<table border=\"1\" class=\"dataframe\">\n",
              "  <thead>\n",
              "    <tr style=\"text-align: right;\">\n",
              "      <th></th>\n",
              "      <th>HIGHWAY</th>\n",
              "      <th>SECTION</th>\n",
              "      <th>SECTION LENGTH</th>\n",
              "      <th>ADT</th>\n",
              "      <th>AADT</th>\n",
              "    </tr>\n",
              "  </thead>\n",
              "  <tbody>\n",
              "    <tr>\n",
              "      <th>0</th>\n",
              "      <td>1</td>\n",
              "      <td>47</td>\n",
              "      <td>4.50</td>\n",
              "      <td>2.566</td>\n",
              "      <td>2.43</td>\n",
              "    </tr>\n",
              "    <tr>\n",
              "      <th>1</th>\n",
              "      <td>1</td>\n",
              "      <td>50</td>\n",
              "      <td>7.60</td>\n",
              "      <td>6.164</td>\n",
              "      <td>5.52</td>\n",
              "    </tr>\n",
              "    <tr>\n",
              "      <th>2</th>\n",
              "      <td>1</td>\n",
              "      <td>65</td>\n",
              "      <td>9.75</td>\n",
              "      <td>2.074</td>\n",
              "      <td>1.78</td>\n",
              "    </tr>\n",
              "    <tr>\n",
              "      <th>3</th>\n",
              "      <td>1</td>\n",
              "      <td>70</td>\n",
              "      <td>3.67</td>\n",
              "      <td>4.079</td>\n",
              "      <td>3.65</td>\n",
              "    </tr>\n",
              "    <tr>\n",
              "      <th>4</th>\n",
              "      <td>1</td>\n",
              "      <td>80</td>\n",
              "      <td>8.96</td>\n",
              "      <td>2.233</td>\n",
              "      <td>2.00</td>\n",
              "    </tr>\n",
              "    <tr>\n",
              "      <th>...</th>\n",
              "      <td>...</td>\n",
              "      <td>...</td>\n",
              "      <td>...</td>\n",
              "      <td>...</td>\n",
              "      <td>...</td>\n",
              "    </tr>\n",
              "    <tr>\n",
              "      <th>581</th>\n",
              "      <td>374</td>\n",
              "      <td>10</td>\n",
              "      <td>11.15</td>\n",
              "      <td>1.316</td>\n",
              "      <td>1.17</td>\n",
              "    </tr>\n",
              "    <tr>\n",
              "      <th>582</th>\n",
              "      <td>374</td>\n",
              "      <td>10</td>\n",
              "      <td>11.15</td>\n",
              "      <td>1.339</td>\n",
              "      <td>1.20</td>\n",
              "    </tr>\n",
              "    <tr>\n",
              "      <th>583</th>\n",
              "      <td>374</td>\n",
              "      <td>20</td>\n",
              "      <td>6.58</td>\n",
              "      <td>774.000</td>\n",
              "      <td>630.00</td>\n",
              "    </tr>\n",
              "    <tr>\n",
              "      <th>584</th>\n",
              "      <td>374</td>\n",
              "      <td>22</td>\n",
              "      <td>16.31</td>\n",
              "      <td>139.000</td>\n",
              "      <td>120.00</td>\n",
              "    </tr>\n",
              "    <tr>\n",
              "      <th>585</th>\n",
              "      <td>374</td>\n",
              "      <td>22</td>\n",
              "      <td>16.31</td>\n",
              "      <td>148.000</td>\n",
              "      <td>130.00</td>\n",
              "    </tr>\n",
              "  </tbody>\n",
              "</table>\n",
              "<p>562 rows × 5 columns</p>\n",
              "</div>"
            ],
            "text/plain": [
              "     HIGHWAY  SECTION  SECTION LENGTH      ADT    AADT\n",
              "0          1       47            4.50    2.566    2.43\n",
              "1          1       50            7.60    6.164    5.52\n",
              "2          1       65            9.75    2.074    1.78\n",
              "3          1       70            3.67    4.079    3.65\n",
              "4          1       80            8.96    2.233    2.00\n",
              "..       ...      ...             ...      ...     ...\n",
              "581      374       10           11.15    1.316    1.17\n",
              "582      374       10           11.15    1.339    1.20\n",
              "583      374       20            6.58  774.000  630.00\n",
              "584      374       22           16.31  139.000  120.00\n",
              "585      374       22           16.31  148.000  130.00\n",
              "\n",
              "[562 rows x 5 columns]"
            ]
          },
          "metadata": {},
          "execution_count": 28
        }
      ]
    },
    {
      "cell_type": "markdown",
      "metadata": {
        "id": "QUxvVLH5pYxJ"
      },
      "source": [
        "So this above graph shows that  Section Length, Highway and AADT has high effect on independent variabele also we saw that there is a correlation between ADT and AADT so I will drop ADT"
      ]
    },
    {
      "cell_type": "code",
      "metadata": {
        "id": "9NzXqHsndxpL",
        "colab": {
          "base_uri": "https://localhost:8080/"
        },
        "outputId": "1bbc5ce0-709f-4471-e3fe-48734dd94d11"
      },
      "source": [
        "#Reference:https://machinelearningmastery.com/feature-selection-for-regression-data/\n",
        "X_train_fs=X_train[['HIGHWAY','SECTION LENGTH','AADT']]\n",
        "X_test_fs=X_test[['HIGHWAY','SECTION LENGTH','AADT']]\n",
        "from sklearn.datasets import make_regression\n",
        "from sklearn.model_selection import train_test_split\n",
        "from sklearn.feature_selection import SelectKBest\n",
        "from sklearn.feature_selection import mutual_info_regression\n",
        "from sklearn.linear_model import LinearRegression\n",
        "from sklearn.metrics import mean_absolute_error\n",
        "model = LinearRegression()\n",
        "model.fit(X_train_fs, y_train)\n",
        "# evaluate the model\n",
        "yhat = model.predict(X_test_fs)\n",
        "# evaluate predictions\n",
        "mae = mean_absolute_error(y_test, yhat)\n",
        "print('MAE: %.3f' % mae)\n"
      ],
      "execution_count": null,
      "outputs": [
        {
          "output_type": "stream",
          "name": "stdout",
          "text": [
            "MAE: 0.034\n"
          ]
        }
      ]
    },
    {
      "cell_type": "markdown",
      "metadata": {
        "id": "tGv4YYwzEUh2"
      },
      "source": [
        "**Task3**"
      ]
    },
    {
      "cell_type": "markdown",
      "metadata": {
        "id": "haYZ0FTt8UbP"
      },
      "source": [
        "This function returns a dictionary that has score,clusters and the model"
      ]
    },
    {
      "cell_type": "code",
      "metadata": {
        "id": "K2-XLHn9eZ0d"
      },
      "source": [
        "\n",
        "def simple_k_means(x: pd.DataFrame, n_clusters=2, score_metric='euclidean') :\n",
        "\n",
        "    model = KMeans(n_clusters=n_clusters)\n",
        "    clusters = model.fit_transform(x)\n",
        "\n",
        "    # There are many methods of deciding a score of a cluster model. Here is one example:\n",
        "    score = metrics.silhouette_score(x, model.labels_, metric=score_metric)\n",
        "    return dict(model=model, score=score, clusters=clusters)\n",
        "\n"
      ],
      "execution_count": null,
      "outputs": []
    },
    {
      "cell_type": "markdown",
      "metadata": {
        "id": "MN2ThDPt8rNv"
      },
      "source": [
        "Now I have computed sillhoute score for different values of k like k=2,3,4,5 on our data"
      ]
    },
    {
      "cell_type": "code",
      "metadata": {
        "id": "3DcXGbhIL6e0"
      },
      "source": [
        "# plot scatter plot\n",
        "from sklearn import metrics\n",
        "from sklearn.metrics import silhouette_samples,silhouette_score\n",
        "from sklearn.cluster import KMeans\n",
        "import numpy as np\n",
        "silhout_matrix=np.zeros(4)\n",
        "# Now check silhouette coefficient\n",
        "for i,k in enumerate([2,3,4,5]):\n",
        "    silhout_matrix[i]=simple_k_means(merged_dataset[['Average']],n_clusters=k,score_metric='euclidean')['score']\n",
        "    "
      ],
      "execution_count": null,
      "outputs": []
    },
    {
      "cell_type": "markdown",
      "metadata": {
        "id": "EyiBUwqc80ra"
      },
      "source": [
        "After this I found out for what value of k the score was highest and it was 3"
      ]
    },
    {
      "cell_type": "code",
      "metadata": {
        "id": "0CRjDGoeP_YQ"
      },
      "source": [
        "max_index=np.argmax(silhout_matrix)"
      ],
      "execution_count": null,
      "outputs": []
    },
    {
      "cell_type": "code",
      "metadata": {
        "colab": {
          "base_uri": "https://localhost:8080/"
        },
        "id": "vNPktrQ2QkSU",
        "outputId": "ab7527db-9a0f-4027-c01c-f615484e2104"
      },
      "source": [
        "2+max_index"
      ],
      "execution_count": null,
      "outputs": [
        {
          "output_type": "execute_result",
          "data": {
            "text/plain": [
              "3"
            ]
          },
          "metadata": {},
          "execution_count": 32
        }
      ]
    },
    {
      "cell_type": "markdown",
      "metadata": {
        "id": "6iWmB3-V9ABS"
      },
      "source": [
        "The highest sillhoute score is 71.5"
      ]
    },
    {
      "cell_type": "code",
      "metadata": {
        "colab": {
          "base_uri": "https://localhost:8080/"
        },
        "id": "Xnvc-VuDQpOL",
        "outputId": "489cca8d-c297-445a-a80b-23ce362bf338"
      },
      "source": [
        "silhout_matrix[max_index]"
      ],
      "execution_count": null,
      "outputs": [
        {
          "output_type": "execute_result",
          "data": {
            "text/plain": [
              "0.5962674988070022"
            ]
          },
          "metadata": {},
          "execution_count": 33
        }
      ]
    },
    {
      "cell_type": "markdown",
      "metadata": {
        "id": "UK-AOwj-9Mj-"
      },
      "source": [
        "The clusters formed with k=3 is "
      ]
    },
    {
      "cell_type": "code",
      "metadata": {
        "colab": {
          "base_uri": "https://localhost:8080/",
          "height": 283
        },
        "id": "Q-irFvHNEwfD",
        "outputId": "60bff9db-7552-4b94-ac89-89a8a15d1fef"
      },
      "source": [
        "import matplotlib.pyplot as plt\n",
        "from sklearn import metrics\n",
        "from sklearn.cluster import KMeans\n",
        "fig,ax=plt.subplots()\n",
        "merged_dataset['Kmeans_cluster']=simple_k_means(merged_dataset[['AADT','ADT','Average','HIGHWAY','SECTION LENGTH']],n_clusters=max_index+2,score_metric='euclidean')['model'].fit_predict(merged_dataset[['AADT','ADT','Average','HIGHWAY','SECTION LENGTH']])\n",
        "scatter = ax.scatter(merged_dataset['Average'],merged_dataset['AADT'], c=merged_dataset['Kmeans_cluster'] ,s=50)\n",
        "\n",
        "ax.set_xlabel('x')\n",
        "ax.set_ylabel('y')\n",
        "plt.colorbar(scatter)\n",
        "plt.draw()"
      ],
      "execution_count": null,
      "outputs": [
        {
          "output_type": "display_data",
          "data": {
            "image/png": "[encoded data removed]",
            "text/plain": [
              "<Figure size 432x288 with 2 Axes>"
            ]
          },
          "metadata": {
            "needs_background": "light"
          }
        }
      ]
    },
    {
      "cell_type": "markdown",
      "metadata": {
        "id": "uWUWC23iQ03E"
      },
      "source": [
        "**Task4**"
      ]
    },
    {
      "cell_type": "code",
      "metadata": {
        "id": "DqLD21tII7gY"
      },
      "source": [
        "merged_dataset.drop(columns=['Date'],inplace=True)"
      ],
      "execution_count": null,
      "outputs": []
    },
    {
      "cell_type": "markdown",
      "metadata": {
        "id": "i92hfFrP9c87"
      },
      "source": [
        "For decision tree classifier we will keep the target variable as the clusters that we found from the last task every thing else is the features"
      ]
    },
    {
      "cell_type": "code",
      "metadata": {
        "id": "SKZ2OkP3UPFP"
      },
      "source": [
        "y=merged_dataset['Kmeans_cluster']\n",
        "X=merged_dataset.drop(columns=['Kmeans_cluster'])"
      ],
      "execution_count": null,
      "outputs": []
    },
    {
      "cell_type": "markdown",
      "metadata": {
        "id": "1P6kPoOz9x1O"
      },
      "source": [
        "Split in 70-30 for train test"
      ]
    },
    {
      "cell_type": "code",
      "metadata": {
        "id": "dHpawSFUViNi"
      },
      "source": [
        "# Split dataset into training set and test set\n",
        "X_train, X_test, y_train, y_test = train_test_split(X, y, test_size=0.3, random_state=1) # 70% training and 30% test\n"
      ],
      "execution_count": null,
      "outputs": []
    },
    {
      "cell_type": "markdown",
      "metadata": {
        "id": "YwPbJCQn93D5"
      },
      "source": [
        "Train the classifier"
      ]
    },
    {
      "cell_type": "code",
      "metadata": {
        "id": "jBWZqh3IVjen"
      },
      "source": [
        "from sklearn.tree import DecisionTreeClassifier # Import Decision Tree Classifier\n",
        "# Create Decision Tree classifer object\n",
        "clf = DecisionTreeClassifier()\n",
        "\n",
        "# Train Decision Tree Classifer\n",
        "clf = clf.fit(X_train,y_train)\n",
        "\n",
        "#Predict the response for test dataset\n",
        "y_pred = clf.predict(X_test)"
      ],
      "execution_count": null,
      "outputs": []
    },
    {
      "cell_type": "markdown",
      "metadata": {
        "id": "CG4jonRN96ET"
      },
      "source": [
        "Check the accuracy on test data and also how many data points were mis predicted by the model"
      ]
    },
    {
      "cell_type": "code",
      "metadata": {
        "colab": {
          "base_uri": "https://localhost:8080/"
        },
        "id": "JyRnOTMTVndS",
        "outputId": "ce635b27-eb36-4394-879b-7de04ebd8ccc"
      },
      "source": [
        "# Model Accuracy, how often is the classifier correct?\n",
        "print(\"Number of mislabeled points out of a total %d points : %d\" % (X_test.shape[0], (y_test != y_pred).sum()))\n",
        "print(\"Accuracy:\",metrics.accuracy_score(y_test, y_pred))"
      ],
      "execution_count": null,
      "outputs": [
        {
          "output_type": "stream",
          "name": "stdout",
          "text": [
            "Number of mislabeled points out of a total 176 points : 0\n",
            "Accuracy: 1.0\n"
          ]
        }
      ]
    },
    {
      "cell_type": "markdown",
      "metadata": {
        "id": "gfSOg4bO-Fma"
      },
      "source": [
        "Show the decision tree"
      ]
    },
    {
      "cell_type": "code",
      "metadata": {
        "colab": {
          "base_uri": "https://localhost:8080/",
          "height": 490
        },
        "id": "7sVeJ1fYWTpc",
        "outputId": "47bfcb59-808c-4b03-875e-4f549ca7bb97"
      },
      "source": [
        "from sklearn.tree import export_graphviz\n",
        "from sklearn.externals.six import StringIO  \n",
        "from IPython.display import Image  \n",
        "import pydotplus\n",
        "\n",
        "dot_data = StringIO()\n",
        "export_graphviz(clf, out_file=dot_data,  \n",
        "                filled=True, rounded=True,\n",
        "                special_characters=True,feature_names = X_train.columns,class_names=['0','1','2'])\n",
        "graph = pydotplus.graph_from_dot_data(dot_data.getvalue())  \n",
        "\n",
        "Image(graph.create_png())"
      ],
      "execution_count": null,
      "outputs": [
        {
          "output_type": "stream",
          "name": "stderr",
          "text": [
            "/usr/local/lib/python3.7/dist-packages/sklearn/externals/six.py:31: FutureWarning: The module is deprecated in version 0.21 and will be removed in version 0.23 since we've dropped support for Python 2.7. Please rely on the official version of six (https://pypi.org/project/six/).\n",
            "  \"(https://pypi.org/project/six/).\", FutureWarning)\n"
          ]
        },
        {
          "output_type": "execute_result",
          "data": {
            "image/png": "[encoded data removed]",
            "text/plain": [
              "<IPython.core.display.Image object>"
            ]
          },
          "metadata": {},
          "execution_count": 40
        }
      ]
    },
    {
      "cell_type": "markdown",
      "metadata": {
        "id": "2hxG1C5g-KvA"
      },
      "source": [
        "Now train the Naive Bayes model and do the same for it"
      ]
    },
    {
      "cell_type": "code",
      "metadata": {
        "colab": {
          "base_uri": "https://localhost:8080/"
        },
        "id": "YiLPLKCWWaJA",
        "outputId": "e3affb05-1975-44ae-93b9-b3f13cc314da"
      },
      "source": [
        "from sklearn.naive_bayes import GaussianNB\n",
        "gnb = GaussianNB()\n",
        "y_pred = gnb.fit(X_train, y_train).predict(X_test)\n",
        "print(\"Number of mislabeled points out of a total %d points : %d\" % (X_test.shape[0], (y_test != y_pred).sum()))"
      ],
      "execution_count": null,
      "outputs": [
        {
          "output_type": "stream",
          "name": "stdout",
          "text": [
            "Number of mislabeled points out of a total 176 points : 3\n"
          ]
        }
      ]
    },
    {
      "cell_type": "code",
      "metadata": {
        "colab": {
          "base_uri": "https://localhost:8080/"
        },
        "id": "SKvk0qcDchIp",
        "outputId": "609b13b6-024a-413c-b590-902d666ed6ad"
      },
      "source": [
        "# Model Accuracy, how often is the classifier correct?\n",
        "print(\"Accuracy:\",metrics.accuracy_score(y_test, y_pred))"
      ],
      "execution_count": null,
      "outputs": [
        {
          "output_type": "stream",
          "name": "stdout",
          "text": [
            "Accuracy: 0.9829545454545454\n"
          ]
        }
      ]
    }
  ]
}